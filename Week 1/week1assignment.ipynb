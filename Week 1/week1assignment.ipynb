{
 "cells": [
  {
   "cell_type": "code",
   "execution_count": 1,
   "metadata": {
    "colab": {},
    "colab_type": "code",
    "id": "F-6bE0dYcBgA"
   },
   "outputs": [],
   "source": [
    "## Import stuff\n",
    " \n",
    "import numpy as np\n",
    "from sklearn import datasets, linear_model, metrics"
   ]
  },
  {
   "cell_type": "code",
   "execution_count": 2,
   "metadata": {
    "colab": {},
    "colab_type": "code",
    "id": "gK71NIhMcEs5"
   },
   "outputs": [],
   "source": [
    "## Load the diabetes dataset\n",
    "diabetes = datasets.load_diabetes()\n",
    "diabetes_X = diabetes.data # matrix of dimensions 442x10\n",
    " \n",
    "# Split the data into training/testing sets\n",
    "diabetes_X_train = diabetes_X[:-20]\n",
    "diabetes_X_test = diabetes_X[-20:]\n",
    " \n",
    "# Split the targets into training/testing sets\n",
    "diabetes_y_train = diabetes.target[:-20]\n",
    "diabetes_y_test = diabetes.target[-20:]"
   ]
  },
  {
   "cell_type": "code",
   "execution_count": 3,
   "metadata": {},
   "outputs": [],
   "source": [
    "# train\n",
    "X = diabetes_X_train\n",
    "y = diabetes_y_train\n",
    " \n",
    "# train: init\n",
    "W = np.random.rand(X.shape[1])\n",
    "b = np.random.rand(1)\n",
    " \n",
    "alpha = 0.001\n",
    "epochs = 100000"
   ]
  },
  {
   "cell_type": "code",
   "execution_count": 6,
   "metadata": {},
   "outputs": [],
   "source": [
    "def error(y,h):\n",
    "    k=y-h\n",
    "    k=k**2\n",
    "    return k.sum()/y.shape[0]"
   ]
  },
  {
   "cell_type": "code",
   "execution_count": 11,
   "metadata": {
    "colab": {},
    "colab_type": "code",
    "id": "XJTg22ybcHsl"
   },
   "outputs": [
    {
     "name": "stdout",
     "output_type": "stream",
     "text": [
      "Epoch 0: 1446.146517\n",
      "Epoch 5000: 1443.615217\n",
      "Epoch 10000: 1441.328842\n",
      "Epoch 15000: 1439.247752\n",
      "Epoch 20000: 1437.341260\n",
      "Epoch 25000: 1435.585163\n",
      "Epoch 30000: 1433.960020\n",
      "Epoch 35000: 1432.449938\n",
      "Epoch 40000: 1431.041713\n",
      "Epoch 45000: 1429.724214\n",
      "Epoch 50000: 1428.487941\n",
      "Epoch 55000: 1427.324694\n",
      "Epoch 60000: 1426.227337\n",
      "Epoch 65000: 1425.189610\n",
      "Epoch 70000: 1424.205988\n",
      "Epoch 75000: 1423.271574\n",
      "Epoch 80000: 1422.382006\n",
      "Epoch 85000: 1421.533391\n",
      "Epoch 90000: 1420.722242\n",
      "Epoch 95000: 1419.945432\n"
     ]
    }
   ],
   "source": [
    "for i in range(epochs):     \n",
    "    \n",
    "    # calculate predictions\n",
    "    H=np.dot(X,W)+b\n",
    "    \n",
    "    # calculate error and cost (mean squared error)\n",
    "    mean_sq_error=error(y,H)\n",
    "    \n",
    "    # calculate gradients\n",
    "    dW=np.dot(X.T,(y-H))\n",
    "    db=(y-H).sum()\n",
    "    \n",
    "    # update parameters\n",
    "    W=W+alpha*dW\n",
    "    b=b+alpha*db\n",
    "    \n",
    "    # diagnostic output\n",
    "    if i % 5000 == 0: print(\"Epoch %d: %f\" % (i, mean_sq_error))\n"
   ]
  },
  {
   "cell_type": "code",
   "execution_count": 12,
   "metadata": {
    "colab": {},
    "colab_type": "code",
    "id": "uvSdTn-0cKJL"
   },
   "outputs": [
    {
     "name": "stdout",
     "output_type": "stream",
     "text": [
      "Coefficients: \n",
      " [-273.31366297 -198.98350906  496.55818896  227.36459864   97.5107132\n",
      " -174.23828859 -224.36783259  -54.70918393  845.77552656   25.78205546]\n",
      "Mean squared error: 1419.20\n",
      "========================================================================================================================\n"
     ]
    }
   ],
   "source": [
    "# test\n",
    "X = diabetes_X_test\n",
    "y = diabetes_y_test\n",
    "\n",
    "# calculate predictions + calculate error and cost (same code as above)\n",
    "\n",
    "H_p=np.dot(X,W)+b\n",
    "mean_squared_error=error(y,H_p)\n",
    "\n",
    "print('Coefficients: \\n', W)\n",
    "print(\"Mean squared error: %.2f\" % mean_squared_error)\n",
    "print(\"=\"*120)"
   ]
  },
  {
   "cell_type": "code",
   "execution_count": null,
   "metadata": {},
   "outputs": [],
   "source": []
  }
 ],
 "metadata": {
  "colab": {
   "name": "week1assignment.ipynb",
   "provenance": []
  },
  "kernelspec": {
   "display_name": "Python 3",
   "language": "python",
   "name": "python3"
  },
  "language_info": {
   "codemirror_mode": {
    "name": "ipython",
    "version": 3
   },
   "file_extension": ".py",
   "mimetype": "text/x-python",
   "name": "python",
   "nbconvert_exporter": "python",
   "pygments_lexer": "ipython3",
   "version": "3.7.6"
  }
 },
 "nbformat": 4,
 "nbformat_minor": 1
}
